{
 "cells": [
  {
   "cell_type": "code",
   "execution_count": null,
   "id": "cd4d03b6",
   "metadata": {},
   "outputs": [],
   "source": [
    "pip install opencv-python"
   ]
  },
  {
   "cell_type": "code",
   "execution_count": null,
   "id": "61b57fca",
   "metadata": {},
   "outputs": [],
   "source": [
    "import numpy as np\n",
    "import pandas as pd\n",
    "import cv2\n",
    "from IPython.display import Image "
   ]
  },
  {
   "cell_type": "code",
   "execution_count": null,
   "id": "574a8fe2",
   "metadata": {},
   "outputs": [],
   "source": [
    "#loading image\n",
    "img = Image(url=\"colourimage2.png\", width=300, height=300) \n",
    "\n",
    "img"
   ]
  },
  {
   "cell_type": "code",
   "execution_count": 3,
   "id": "d4a9eb78",
   "metadata": {},
   "outputs": [
    {
     "name": "stdout",
     "output_type": "stream",
     "text": [
      "colourimage2.png\n"
     ]
    }
   ],
   "source": [
    "image_path = \"colourimage2.png\"\n",
    "print(image_path)"
   ]
  },
  {
   "cell_type": "code",
   "execution_count": 4,
   "id": "fa7bc18b",
   "metadata": {},
   "outputs": [
    {
     "data": {
      "text/plain": [
       "array([[[247, 248, 255],\n",
       "        [247, 248, 255],\n",
       "        [247, 248, 255],\n",
       "        ...,\n",
       "        [247, 248, 255],\n",
       "        [247, 248, 255],\n",
       "        [247, 248, 255]],\n",
       "\n",
       "       [[247, 248, 255],\n",
       "        [247, 248, 255],\n",
       "        [247, 248, 255],\n",
       "        ...,\n",
       "        [247, 248, 255],\n",
       "        [247, 248, 255],\n",
       "        [247, 248, 255]],\n",
       "\n",
       "       [[224, 221, 243],\n",
       "        [224, 221, 243],\n",
       "        [224, 221, 243],\n",
       "        ...,\n",
       "        [224, 221, 243],\n",
       "        [224, 221, 243],\n",
       "        [224, 221, 243]],\n",
       "\n",
       "       ...,\n",
       "\n",
       "       [[ 41,  48,  27],\n",
       "        [ 41,  43,  22],\n",
       "        [ 49,  46,  29],\n",
       "        ...,\n",
       "        [ 18,  41,  28],\n",
       "        [ 13,  38,  26],\n",
       "        [  1,  27,  17]],\n",
       "\n",
       "       [[ 42,  43,  36],\n",
       "        [ 47,  45,  36],\n",
       "        [ 43,  40,  31],\n",
       "        ...,\n",
       "        [ 23,  43,  34],\n",
       "        [ 17,  39,  33],\n",
       "        [  9,  33,  27]],\n",
       "\n",
       "       [[ 40,  38,  45],\n",
       "        [ 42,  41,  46],\n",
       "        [ 40,  40,  42],\n",
       "        ...,\n",
       "        [ 26,  44,  37],\n",
       "        [ 21,  42,  38],\n",
       "        [ 17,  40,  36]]], dtype=uint8)"
      ]
     },
     "execution_count": 4,
     "metadata": {},
     "output_type": "execute_result"
    }
   ],
   "source": [
    "image = cv2.imread(image_path)\n",
    "image"
   ]
  },
  {
   "cell_type": "code",
   "execution_count": 5,
   "id": "484bca57",
   "metadata": {},
   "outputs": [],
   "source": [
    "#loading csv file\n",
    "data = pd.read_csv('coloursdataset.csv')"
   ]
  },
  {
   "cell_type": "code",
   "execution_count": 6,
   "id": "e530d8e3",
   "metadata": {},
   "outputs": [
    {
     "data": {
      "text/html": [
       "<div>\n",
       "<style scoped>\n",
       "    .dataframe tbody tr th:only-of-type {\n",
       "        vertical-align: middle;\n",
       "    }\n",
       "\n",
       "    .dataframe tbody tr th {\n",
       "        vertical-align: top;\n",
       "    }\n",
       "\n",
       "    .dataframe thead th {\n",
       "        text-align: right;\n",
       "    }\n",
       "</style>\n",
       "<table border=\"1\" class=\"dataframe\">\n",
       "  <thead>\n",
       "    <tr style=\"text-align: right;\">\n",
       "      <th></th>\n",
       "      <th>color</th>\n",
       "      <th>color_name</th>\n",
       "      <th>hex</th>\n",
       "      <th>R</th>\n",
       "      <th>G</th>\n",
       "      <th>B</th>\n",
       "    </tr>\n",
       "  </thead>\n",
       "  <tbody>\n",
       "    <tr>\n",
       "      <th>0</th>\n",
       "      <td>air_force_blue_raf</td>\n",
       "      <td>Air Force Blue (Raf)</td>\n",
       "      <td>#5d8aa8</td>\n",
       "      <td>93</td>\n",
       "      <td>138</td>\n",
       "      <td>168</td>\n",
       "    </tr>\n",
       "    <tr>\n",
       "      <th>1</th>\n",
       "      <td>air_force_blue_usaf</td>\n",
       "      <td>Air Force Blue (Usaf)</td>\n",
       "      <td>#00308f</td>\n",
       "      <td>0</td>\n",
       "      <td>48</td>\n",
       "      <td>143</td>\n",
       "    </tr>\n",
       "    <tr>\n",
       "      <th>2</th>\n",
       "      <td>air_superiority_blue</td>\n",
       "      <td>Air Superiority Blue</td>\n",
       "      <td>#72a0c1</td>\n",
       "      <td>114</td>\n",
       "      <td>160</td>\n",
       "      <td>193</td>\n",
       "    </tr>\n",
       "    <tr>\n",
       "      <th>3</th>\n",
       "      <td>alabama_crimson</td>\n",
       "      <td>Alabama Crimson</td>\n",
       "      <td>#a32638</td>\n",
       "      <td>163</td>\n",
       "      <td>38</td>\n",
       "      <td>56</td>\n",
       "    </tr>\n",
       "    <tr>\n",
       "      <th>4</th>\n",
       "      <td>alice_blue</td>\n",
       "      <td>Alice Blue</td>\n",
       "      <td>#f0f8ff</td>\n",
       "      <td>240</td>\n",
       "      <td>248</td>\n",
       "      <td>255</td>\n",
       "    </tr>\n",
       "    <tr>\n",
       "      <th>5</th>\n",
       "      <td>alizarin_crimson</td>\n",
       "      <td>Alizarin Crimson</td>\n",
       "      <td>#e32636</td>\n",
       "      <td>227</td>\n",
       "      <td>38</td>\n",
       "      <td>54</td>\n",
       "    </tr>\n",
       "    <tr>\n",
       "      <th>6</th>\n",
       "      <td>alloy_orange</td>\n",
       "      <td>Alloy Orange</td>\n",
       "      <td>#c46210</td>\n",
       "      <td>196</td>\n",
       "      <td>98</td>\n",
       "      <td>16</td>\n",
       "    </tr>\n",
       "    <tr>\n",
       "      <th>7</th>\n",
       "      <td>almond</td>\n",
       "      <td>Almond</td>\n",
       "      <td>#efdecd</td>\n",
       "      <td>239</td>\n",
       "      <td>222</td>\n",
       "      <td>205</td>\n",
       "    </tr>\n",
       "    <tr>\n",
       "      <th>8</th>\n",
       "      <td>amaranth</td>\n",
       "      <td>Amaranth</td>\n",
       "      <td>#e52b50</td>\n",
       "      <td>229</td>\n",
       "      <td>43</td>\n",
       "      <td>80</td>\n",
       "    </tr>\n",
       "    <tr>\n",
       "      <th>9</th>\n",
       "      <td>amber</td>\n",
       "      <td>Amber</td>\n",
       "      <td>#ffbf00</td>\n",
       "      <td>255</td>\n",
       "      <td>191</td>\n",
       "      <td>0</td>\n",
       "    </tr>\n",
       "  </tbody>\n",
       "</table>\n",
       "</div>"
      ],
      "text/plain": [
       "                  color             color_name      hex    R    G    B\n",
       "0    air_force_blue_raf   Air Force Blue (Raf)  #5d8aa8   93  138  168\n",
       "1   air_force_blue_usaf  Air Force Blue (Usaf)  #00308f    0   48  143\n",
       "2  air_superiority_blue   Air Superiority Blue  #72a0c1  114  160  193\n",
       "3       alabama_crimson        Alabama Crimson  #a32638  163   38   56\n",
       "4            alice_blue             Alice Blue  #f0f8ff  240  248  255\n",
       "5      alizarin_crimson       Alizarin Crimson  #e32636  227   38   54\n",
       "6          alloy_orange           Alloy Orange  #c46210  196   98   16\n",
       "7                almond                 Almond  #efdecd  239  222  205\n",
       "8              amaranth               Amaranth  #e52b50  229   43   80\n",
       "9                 amber                  Amber  #ffbf00  255  191    0"
      ]
     },
     "execution_count": 6,
     "metadata": {},
     "output_type": "execute_result"
    }
   ],
   "source": [
    "#Giving column names\n",
    "coloumns=[\"color\",\"color_name\",\"hex\",\"R\",\"G\",\"B\"]\n",
    "\n",
    "#Modifying the dataset(Adding colours)\n",
    "data = pd.read_csv('coloursdataset.csv',names=coloumns)\n",
    "\n",
    "data.head(10)"
   ]
  },
  {
   "cell_type": "code",
   "execution_count": 7,
   "id": "7d3e8a76",
   "metadata": {},
   "outputs": [
    {
     "data": {
      "text/plain": [
       "color         0\n",
       "color_name    0\n",
       "hex           0\n",
       "R             0\n",
       "G             0\n",
       "B             0\n",
       "dtype: int64"
      ]
     },
     "execution_count": 7,
     "metadata": {},
     "output_type": "execute_result"
    }
   ],
   "source": [
    "data.isnull().sum()"
   ]
  },
  {
   "cell_type": "markdown",
   "id": "bfcf6032",
   "metadata": {},
   "source": [
    "Here the datset is cleaned.\n",
    "So, we can proceed with our dataset and make necessary operations."
   ]
  },
  {
   "cell_type": "code",
   "execution_count": 8,
   "id": "b168f0c6",
   "metadata": {},
   "outputs": [],
   "source": [
    "#declaring global variables (are used later on)\n",
    "clicked = False\n",
    "r = g = b = xpos = ypos = 0"
   ]
  },
  {
   "cell_type": "code",
   "execution_count": 10,
   "id": "f0cdc44d",
   "metadata": {},
   "outputs": [],
   "source": [
    "#function to calculate minimum distance from all colors and get the most matching color\n",
    "def getColorName(R,G,B):\n",
    "    minimum = 10000\n",
    "    for i in range(len(data)):\n",
    "        d = abs(R- int(data.loc[i,\"R\"])) + abs(G- int(data.loc[i,\"G\"]))+ abs(B- int(data.loc[i,\"B\"]))\n",
    "        if(d<=minimum):\n",
    "            minimum = d\n",
    "            cname = data.loc[i,\"color_name\"]\n",
    "    return cname\n",
    "\n",
    "\n",
    "\n",
    "#function to get x,y coordinates of mouse double click\n",
    "def draw_function(event, x,y,flags,param):\n",
    "    if event == cv2.EVENT_LBUTTONDBLCLK:\n",
    "        global b,g,r,xpos,ypos, clicked\n",
    "        clicked = True\n",
    "        xpos = x\n",
    "        ypos = y\n",
    "        b,g,r = image[y,x]\n",
    "        b = int(b)\n",
    "        g = int(g)\n",
    "        r = int(r)\n",
    "\n",
    "\n",
    "\n",
    "#Creating a window to dispaly image\n",
    "cv2.namedWindow('Image_Window')\n",
    "\n",
    "cv2.setMouseCallback('Image_Window',draw_function)\n",
    "\n",
    "\n",
    "#Displaying image on window\n",
    "while True:\n",
    "    \n",
    "    cv2.imshow('Image_Window', image)\n",
    "    \n",
    "    if clicked:\n",
    "        # Draw a rectangle and display the color name and RGB values\n",
    "        cv2.rectangle(image, (20, 20), (750, 60), (b, g, r), -1)\n",
    "        text = getColorName(r, g, b) + ', R=' + str(r) + ', G=' + str(g) + ', B=' + str(b)\n",
    "        cv2.putText(image, text, (50, 50), cv2.FONT_HERSHEY_SIMPLEX, 0.8, (255, 255, 255), 2, cv2.LINE_AA)\n",
    "\n",
    "        # For very light colors, display text in black\n",
    "        if r + g + b >= 600:\n",
    "            cv2.putText(image, text, (50, 50), cv2.FONT_HERSHEY_SIMPLEX, 0.8, (0, 0, 0), 2, cv2.LINE_AA)\n",
    "        \n",
    "        clicked = False\n",
    "\n",
    "    # Break the loop when user hits the 'esc' key    \n",
    "    if cv2.waitKey(20) & 0xFF == 27:\n",
    "        break\n",
    "    \n",
    "cv2.destroyAllWindows()"
   ]
  },
  {
   "cell_type": "code",
   "execution_count": null,
   "id": "7ef6fdb7",
   "metadata": {},
   "outputs": [],
   "source": []
  },
  {
   "cell_type": "code",
   "execution_count": null,
   "id": "e23cbb7e",
   "metadata": {},
   "outputs": [],
   "source": []
  }
 ],
 "metadata": {
  "kernelspec": {
   "display_name": "Python 3 (ipykernel)",
   "language": "python",
   "name": "python3"
  },
  "language_info": {
   "codemirror_mode": {
    "name": "ipython",
    "version": 3
   },
   "file_extension": ".py",
   "mimetype": "text/x-python",
   "name": "python",
   "nbconvert_exporter": "python",
   "pygments_lexer": "ipython3",
   "version": "3.11.5"
  }
 },
 "nbformat": 4,
 "nbformat_minor": 5
}
